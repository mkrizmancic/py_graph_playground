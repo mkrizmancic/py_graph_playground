{
 "cells": [
  {
   "cell_type": "code",
   "execution_count": null,
   "metadata": {
    "collapsed": true
   },
   "outputs": [],
   "source": [
    "\n",
    "import itertools\n",
    "import math\n",
    "import random\n",
    "from pathlib import Path\n",
    "\n",
    "import codetiming as ct\n",
    "import numpy as np\n",
    "import scipy.signal as spsig\n",
    "import networkx as nx\n",
    "import plotly.graph_objects as go\n",
    "import plotly.express as px\n"
   ]
  },
  {
   "cell_type": "code",
   "execution_count": null,
   "metadata": {
    "collapsed": false,
    "pycharm": {
     "name": "#%%\n"
    }
   },
   "outputs": [],
   "source": [
    "def numpy_print(txt, array):\n",
    "    print(f\"{txt}{np.array2string(array, precision=3, prefix=txt)}\")"
   ]
  },
  {
   "cell_type": "code",
   "execution_count": null,
   "metadata": {
    "collapsed": false,
    "pycharm": {
     "name": "#%%\n"
    }
   },
   "outputs": [],
   "source": [
    "def matrix_consensus(A, X0, eps):\n",
    "    n = len(X0)\n",
    "    Xo = np.zeros((n, 1))\n",
    "    Xn = X0.copy()\n",
    "\n",
    "    L = np.diag(A.sum(1)) - A\n",
    "    W = np.eye(n) - eps * L\n",
    "\n",
    "    steps = 0\n",
    "    while not np.allclose(Xo, Xn, atol=0.001, rtol=0) and not np.any(np.isnan(Xn)):\n",
    "        Xo = Xn\n",
    "        Xn = W @ Xo\n",
    "        steps += 1\n",
    "\n",
    "    # print(f\"Average initial value = {avg}\\nAverage final value = {np.mean(Xn)}\")\n",
    "\n",
    "    return Xn, steps\n"
   ]
  },
  {
   "cell_type": "code",
   "execution_count": null,
   "metadata": {
    "collapsed": false,
    "pycharm": {
     "name": "#%%\n"
    }
   },
   "outputs": [],
   "source": [
    "def loop_consensus(A, X0, eps):\n",
    "    n = len(X0)\n",
    "    Xo = np.zeros((n, 1))\n",
    "    Xn = X0.copy()\n",
    "\n",
    "    steps = 0\n",
    "    while not np.allclose(Xo, Xn, atol=0.1, rtol=0) and not np.any(np.isnan(Xn)):\n",
    "        Xo = Xn.copy()\n",
    "        for i in range(n):\n",
    "            total = 0\n",
    "            for j in range(n):\n",
    "                total += A[i][j] * (Xo[j] - Xo[i])\n",
    "            Xn[i] = Xo[i] + eps * total\n",
    "        steps += 1\n",
    "\n",
    "    # print(f\"Average initial value = {avg}\\nAverage final value = {np.mean(Xn)}\")\n",
    "\n",
    "    return Xn, steps"
   ]
  },
  {
   "cell_type": "code",
   "execution_count": null,
   "metadata": {
    "collapsed": false,
    "pycharm": {
     "name": "#%%\n"
    }
   },
   "outputs": [],
   "source": [
    "def run_consensus(A):\n",
    "    num_nodes = A.shape[0]\n",
    "    counts = dict(zip(*np.unique(A, return_counts=True)))\n",
    "    num_edges = counts[1] / 2\n",
    "    if num_nodes in initials:\n",
    "        X0 = initials[num_nodes]\n",
    "    else:\n",
    "        X0 = np.random.rand(num_nodes, 1) * 100\n",
    "        initials[num_nodes] = X0\n",
    "\n",
    "    L = np.diag(A.sum(1)) - A\n",
    "    lambdas, vectors = np.linalg.eigh(L)\n",
    "    lambdas.sort()\n",
    "    eps = 2 / (lambdas[1] + lambdas[-1])\n",
    "\n",
    "    Xm, km = matrix_consensus(A, X0, eps)\n",
    "\n",
    "    if np.isclose(lambdas[1], lambdas[-1]):\n",
    "        beta = np.nan\n",
    "    else:\n",
    "        beta = 1 / (1 - eps * lambdas[1])\n",
    "\n",
    "    return round(beta, 5), km, num_nodes\n"
   ]
  },
  {
   "cell_type": "code",
   "execution_count": null,
   "metadata": {
    "collapsed": false,
    "pycharm": {
     "name": "#%%\n"
    }
   },
   "outputs": [],
   "source": [
    "\n",
    "# MAIN\n",
    "\n",
    "x = []\n",
    "y = []\n",
    "c = []\n",
    "\n",
    "data_folder = Path.cwd() / '../Data'\n",
    "\n",
    "initials = {}\n",
    "\n",
    "# with open(data_folder / 'RandomGraphs.npz', 'rb') as stream:\n",
    "#     graphs = np.load(stream)\n",
    "#\n",
    "#     for g in graphs:\n",
    "#         beta, k_final, additional = run_consensus(A=graphs[g])\n",
    "#         x.append(beta)\n",
    "#         y.append(k_final)\n",
    "#         c.append(additional)\n",
    "\n",
    "for i in range(3, 8):\n",
    "    with open(data_folder / f'UniqueGraphs_{i}.npz', 'rb') as stream:\n",
    "        graphs = np.load(stream)\n",
    "\n",
    "        for g in graphs:\n",
    "            beta, k_final, additional = run_consensus(A=graphs[g])\n",
    "            x.append(beta)\n",
    "            y.append(k_final)\n",
    "            c.append(additional)\n",
    "\n",
    "x = np.array(x)\n",
    "x[np.isnan(x)] = np.nanmax(x)\n",
    "y = np.array(y)\n",
    "c = np.array(c)\n",
    "inds = x.argsort()\n",
    "y = y[inds]\n",
    "x = x[inds]\n",
    "c = c[inds]"
   ]
  },
  {
   "cell_type": "code",
   "execution_count": null,
   "metadata": {
    "collapsed": false,
    "pycharm": {
     "name": "#%%\n"
    }
   },
   "outputs": [],
   "source": [
    "t = np.linspace(min(x), max(x), 100)\n",
    "step = t[1] - t[0]\n",
    "\n",
    "env_x = []\n",
    "env_y = []\n",
    "w = 0.5\n",
    "\n",
    "# for v in t:\n",
    "#     idx = np.where((x >= v - w * step) & (x <= v + w * step))[0]\n",
    "#     if idx.size:\n",
    "#         env_y.append(np.max(y[idx]))\n",
    "#         env_x.append(v)\n",
    "\n",
    "\n",
    "local_max = 0\n",
    "for xi, yi in zip(reversed(x), reversed(y)):\n",
    "    if yi > local_max:\n",
    "        local_max = yi\n",
    "        env_y.append(yi)\n",
    "        env_x.append(xi)\n",
    "\n",
    "env_x.reverse()\n",
    "env_y.reverse()\n",
    "\n",
    "import scipy.io\n",
    "scipy.io.savemat(data_folder / 'data.mat', dict(x=env_x, y=env_y))\n",
    "\n",
    "t1 = go.Scatter(x=x, y=y, mode='markers', name='Data',\n",
    "                text=c,\n",
    "                marker=dict(color=c,\n",
    "                            colorscale='Viridis',\n",
    "                            showscale=True)\n",
    "                )\n",
    "\n",
    "t2 = go.Scatter(x=env_x, y=env_y, mode='lines', name='Envelope')\n",
    "\n",
    "layout = go.Layout(title=\"Convergence time depending on beta\",\n",
    "                   width=800,\n",
    "                   height=600,\n",
    "                   showlegend=False,\n",
    "                   scene=dict(xaxis=dict(dict(title='beta')),\n",
    "                              yaxis=dict(dict(title='num_steps'))),\n",
    "                   margin=dict(t=100),\n",
    "                   hovermode='closest')\n",
    "\n",
    "\n",
    "fig = go.Figure(data=[t1, t2], layout=layout)\n",
    "fig.update_xaxes(showspikes=True)\n",
    "fig.update_yaxes(showspikes=True)\n",
    "fig.show()"
   ]
  }
 ],
 "metadata": {
  "kernelspec": {
   "display_name": "Python 3",
   "language": "python",
   "name": "python3"
  },
  "language_info": {
   "codemirror_mode": {
    "name": "ipython",
    "version": 2
   },
   "file_extension": ".py",
   "mimetype": "text/x-python",
   "name": "python",
   "nbconvert_exporter": "python",
   "pygments_lexer": "ipython2",
   "version": "2.7.6"
  }
 },
 "nbformat": 4,
 "nbformat_minor": 0
}
