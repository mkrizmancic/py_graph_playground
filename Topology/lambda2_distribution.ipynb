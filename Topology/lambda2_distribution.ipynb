{
 "cells": [
  {
   "cell_type": "markdown",
   "metadata": {},
   "source": [
    "# Analyze distribution of lambda_2 in general graphs."
   ]
  },
  {
   "cell_type": "code",
   "execution_count": null,
   "metadata": {},
   "outputs": [],
   "source": [
    "from tqdm.contrib.concurrent import process_map\n",
    "from my_graphs_dataset import GraphDataset, GraphType\n",
    "import networkx as nx\n",
    "import numpy as np\n",
    "import plotly.express as px\n",
    "import pandas as pd\n",
    "from scipy.stats import zscore, skew, boxcox, yeojohnson\n",
    "\n",
    "\n",
    "def algebraic_connectivity(G):\n",
    "    L = nx.laplacian_matrix(G).toarray()\n",
    "    lambdas = sorted(np.linalg.eigvalsh(L))\n",
    "    return lambdas[1]\n",
    "\n",
    "\n",
    "def norm_algebraic_connectivity(G, N):\n",
    "    return algebraic_connectivity(G) / N\n",
    "\n",
    "\n",
    "def spectral_radius(G):\n",
    "    L = nx.laplacian_matrix(G).toarray()\n",
    "    lambdas = np.linalg.eigvalsh(L)\n",
    "    return max(abs(lambdas))\n",
    "\n",
    "\n",
    "def worker(graph):\n",
    "    G = GraphDataset.parse_graph6(graph)\n",
    "    num_nodes = G.number_of_nodes()\n",
    "    # l2 = algebraic_connectivity(G)\n",
    "    l2 = norm_algebraic_connectivity(G, num_nodes)\n",
    "    return l2, num_nodes"
   ]
  },
  {
   "cell_type": "code",
   "execution_count": null,
   "metadata": {},
   "outputs": [],
   "source": [
    "selection = {\n",
    "    3: -1,\n",
    "    4: -1,\n",
    "    5: -1,\n",
    "    6: -1,\n",
    "    7: -1,\n",
    "    8: -1,\n",
    "    9: 10000,\n",
    "    10: 10000,\n",
    "    GraphType.RANDOM_MIX: (10000, range(11, 21)),\n",
    "}\n",
    "loader = GraphDataset(selection=selection)\n",
    "all_results = []\n",
    "\n",
    "\n",
    "# If batch_size=\"auto\", loader yields all graphs from individual files.\n",
    "for graphs in loader.graphs(raw=True, batch_size=10000):\n",
    "    # Process map runs the multiprocessing pool and displays a progress bar with tqdm.\n",
    "    result = process_map(worker, graphs, chunksize=1000)\n",
    "    all_results.extend(result)\n",
    "\n",
    "# Save the results to a file.\n",
    "import pickle\n",
    "with open(\"graphs.pkl\", \"wb\") as f:\n",
    "    pickle.dump(all_results, f)"
   ]
  },
  {
   "cell_type": "code",
   "execution_count": null,
   "metadata": {},
   "outputs": [],
   "source": [
    "# Load the results from a file.\n",
    "import pickle\n",
    "with open(\"graphs.pkl\", \"rb\") as f:\n",
    "    all_results = pickle.load(f)"
   ]
  },
  {
   "cell_type": "code",
   "execution_count": null,
   "metadata": {},
   "outputs": [],
   "source": [
    "# Prepare data for plotting\n",
    "df = pd.DataFrame(all_results, columns=['metric', 'num_nodes'])\n",
    "\n",
    "# Perform z-score normalization within each group of num_nodes\n",
    "df['metric_zscore'] = df.groupby('num_nodes')['metric'].transform(zscore)\n",
    "\n",
    "# Define a function to apply transformations and calculate skewness for each transformation\n",
    "def calculate_skewness(group):\n",
    "    transformations = {}\n",
    "    # Original metric\n",
    "    transformations['original'] = skew(group['metric'])\n",
    "    # Log transformation (add 1 to avoid log(0))\n",
    "    transformations['log'] = skew(np.log1p(group['metric']))\n",
    "    # Square root transformation\n",
    "    transformations['sqrt'] = skew(np.sqrt(group['metric']))\n",
    "    # Cube root transformation\n",
    "    transformations['cbrt'] = skew(np.cbrt(group['metric']))\n",
    "    # Box-Cox transformation (only on positive data)\n",
    "    transformations['boxcox'] = skew(boxcox(group['metric'])[0])\n",
    "    # Yeo-Johnson transformation (handles all values)\n",
    "    transformations['yeojohnson'] = skew(yeojohnson(group['metric'])[0])\n",
    "\n",
    "    return pd.Series(transformations)\n",
    "\n",
    "# Apply the function to each group of `num_nodes` and create the new skewness DataFrame\n",
    "skewness_df = df.groupby('num_nodes').apply(calculate_skewness).reset_index()\n",
    "skewness_df = skewness_df.round(5)\n",
    "\n",
    "df['metric_unskewed'] = df.groupby('num_nodes')['metric'].transform(lambda x: boxcox(x)[0])\n",
    "\n",
    "# Create ridgeline plot\n",
    "fig = px.violin(df, x='metric', y='num_nodes', points=False, box=True)\n",
    "fig.update_traces(orientation='h', side='positive', width=3, spanmode=\"hard\")\n",
    "fig.show()\n",
    "\n",
    "fig = px.violin(df, x='metric_unskewed', y='num_nodes', points=False, box=True)\n",
    "fig.update_traces(orientation='h', side='positive', width=3, spanmode=\"hard\")\n",
    "fig.show()\n",
    "\n",
    "skewness_df\n"
   ]
  }
 ],
 "metadata": {
  "kernelspec": {
   "display_name": "Python 3",
   "language": "python",
   "name": "python3"
  },
  "language_info": {
   "codemirror_mode": {
    "name": "ipython",
    "version": 3
   },
   "file_extension": ".py",
   "mimetype": "text/x-python",
   "name": "python",
   "nbconvert_exporter": "python",
   "pygments_lexer": "ipython3",
   "version": "3.10.12"
  }
 },
 "nbformat": 4,
 "nbformat_minor": 2
}
