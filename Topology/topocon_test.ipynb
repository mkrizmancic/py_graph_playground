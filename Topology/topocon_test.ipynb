{
 "cells": [
  {
   "cell_type": "code",
   "execution_count": null,
   "metadata": {
    "collapsed": false,
    "pycharm": {
     "name": "#%%\n"
    }
   },
   "outputs": [],
   "source": [
    "import math\n",
    "import itertools\n",
    "\n",
    "\n",
    "import numpy as np\n",
    "import networkx as nx"
   ]
  },
  {
   "cell_type": "code",
   "execution_count": null,
   "metadata": {
    "collapsed": false,
    "pycharm": {
     "name": "#%%\n"
    }
   },
   "outputs": [],
   "source": [
    "def calc_lambda(A, addremove=1, p=False):\n",
    "    \"\"\"Calculate the current lambda_2 and K_lambda_2 and return them.\"\"\"\n",
    "    L = np.diag(A.sum(1)) - A\n",
    "    lambdas, vectors = np.linalg.eigh(L)\n",
    "    sort = lambdas.argsort()\n",
    "    lambdas = lambdas[sort]\n",
    "    vectors = vectors[:,sort]\n",
    "\n",
    "    l2 = lambdas[1]\n",
    "    f = vectors[:,1]\n",
    "    # l2_multiplicity = np.count_nonzero(np.isclose(lambdas, l2))\n",
    "\n",
    "    search = []\n",
    "    for i, j in itertools.combinations(range(len(f)), 2):\n",
    "        if abs(f[i] - f[j]) > 10e-5 and ((addremove == 1 and A[i][j] == 0) or (addremove == -1 and A[i][j] == 1)):\n",
    "            search.append((addremove * (f[i] - f[j]) ** 2, (i, j)))\n",
    "    \n",
    "    K_l2, link = max(search)\n",
    "\n",
    "    if p:\n",
    "        print(f\"({l2:.5f}, {K_l2:.5f})\")\n",
    "        print(f\"L  = {np.array2string(L, prefix='L  = ')}\")\n",
    "        print(f\"eval={np.array2string(lambdas)}\")\n",
    "        print(f\"evec={np.array2string(vectors, prefix='evec=')}\")\n",
    "        print('-----------------------------------------------\\n')\n",
    "\n",
    "    return round(l2, 5), link, f\n"
   ]
  },
  {
   "cell_type": "code",
   "execution_count": null,
   "metadata": {
    "collapsed": true,
    "pycharm": {
     "name": "#%% Generate a random graph and set up experiment\n"
    }
   },
   "outputs": [],
   "source": [
    "# Generate a random graph.\n",
    "num_nodes = 12\n",
    "G = nx.connected_watts_strogatz_graph(num_nodes, max(int(math.sqrt(num_nodes)), 2), 0.5)\n",
    "initial_l2 = nx.algebraic_connectivity(G)\n",
    "\n",
    "# Setup\n",
    "target_l2 = 6"
   ]
  },
  {
   "cell_type": "code",
   "execution_count": null,
   "metadata": {
    "collapsed": false,
    "pycharm": {
     "name": "#%% Reach the target lambda by estimating\n"
    }
   },
   "outputs": [],
   "source": [
    "steps_est = 0\n",
    "current_l2 = initial_l2\n",
    "A = nx.to_numpy_array(G)\n",
    "\n",
    "while abs(target_l2 - current_l2) > 0.1:\n",
    "    steps_est += 1\n",
    "    if current_l2 < target_l2:\n",
    "        current_l2, link, f = calc_lambda(A, 1)\n",
    "        A[link[0]][link[1]] = 1\n",
    "        A[link[1]][link[0]] = 1\n",
    "        operation = 'added'\n",
    "    else:\n",
    "        current_l2, link, f = calc_lambda(A, -1)\n",
    "        A[link[0]][link[1]] = 0\n",
    "        A[link[1]][link[0]] = 0\n",
    "        operation = 'removed'\n",
    "\n",
    "    print(f'Step: {steps_est:3d}')\n",
    "    print(f'l2 = {current_l2:6.3f}, Link {operation}: {link}')\n",
    "    print('=' * 20, '\\n')\n",
    "\n",
    "\n"
   ]
  },
  {
   "cell_type": "code",
   "execution_count": null,
   "metadata": {
    "collapsed": false,
    "pycharm": {
     "name": "#%% Reach the target lambda by exact path\n"
    }
   },
   "outputs": [],
   "source": [
    "\n",
    "print(f'>{1.456789:7.3f}')"
   ]
  }
 ],
 "metadata": {
  "kernelspec": {
   "display_name": "Python 3",
   "language": "python",
   "name": "python3"
  },
  "language_info": {
   "codemirror_mode": {
    "name": "ipython",
    "version": 2
   },
   "file_extension": ".py",
   "mimetype": "text/x-python",
   "name": "python",
   "nbconvert_exporter": "python",
   "pygments_lexer": "ipython2",
   "version": "2.7.6"
  }
 },
 "nbformat": 4,
 "nbformat_minor": 0
}
