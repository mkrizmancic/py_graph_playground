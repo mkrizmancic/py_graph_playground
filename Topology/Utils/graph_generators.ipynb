{
 "cells": [
  {
   "cell_type": "code",
   "execution_count": null,
   "metadata": {
    "pycharm": {
     "name": "#%%\n"
    }
   },
   "outputs": [],
   "source": [
    "import math\n",
    "import random\n",
    "import numpy as np\n",
    "import networkx as nx\n",
    "from pathlib import Path\n",
    "\n",
    "\n",
    "data_folder = Path.cwd() / '../../Data'"
   ]
  },
  {
   "cell_type": "markdown",
   "metadata": {
    "collapsed": true,
    "pycharm": {
     "name": "#%% md\n"
    }
   },
   "source": [
    "### Generate unique graphs with 3-7 nodes.\n",
    "\n",
    "- 2 graphs for n = 3\n",
    "- 6 graphs for n = 4\n",
    "- 21 graphs for n = 5\n",
    "- 112 graphs for n = 6\n",
    "- 853 graphs for n = 7\n",
    "\n",
    "TOTAL: 994"
   ]
  },
  {
   "cell_type": "code",
   "execution_count": null,
   "metadata": {
    "pycharm": {
     "name": "#%%\n"
    }
   },
   "outputs": [],
   "source": [
    "import codetiming\n",
    "import unique_graphs\n",
    "\n",
    "total = 0\n",
    "gs = None\n",
    "\n",
    "for i in range(3, 8 + 1):\n",
    "    all_graphs = {}\n",
    "    with codetiming.Timer():\n",
    "        gs = unique_graphs.make_graphs_faster(i, gs)\n",
    "    print(f\"Graphs built: {len(gs)}\\n\")\n",
    "    total += len(gs)\n",
    "\n",
    "    for k, edges in enumerate(gs):\n",
    "        g = nx.from_edgelist(edges)\n",
    "        all_graphs[f'G{i},{k}'] = nx.to_numpy_array(g)\n",
    "\n",
    "    with open(data_folder / f'UniqueGraphs_{i}.npz', 'wb') as stream:\n",
    "        np.savez(stream, **all_graphs)\n",
    "\n",
    "print(f\"Files generated. Total {total} graphs.\")"
   ]
  },
  {
   "cell_type": "code",
   "execution_count": null,
   "metadata": {},
   "outputs": [],
   "source": [
    "from unique_graphs import make_graphs_filtered, filter, make_graphs\n",
    "import codetiming\n",
    "import itertools\n",
    "\n",
    "# Normal approach\n",
    "with codetiming.Timer():\n",
    "    gs5_old = make_graphs_filtered(5)\n",
    "\n",
    "with codetiming.Timer():\n",
    "    gs6_old = make_graphs_filtered(6)\n",
    "    \n",
    "gs6_old_raw = make_graphs(6)\n",
    "    \n",
    "    \n",
    "# New approach\n",
    "n = 6\n",
    "with codetiming.Timer():\n",
    "    gs6_new_raw = []\n",
    "    for g in gs5_old:\n",
    "        for i in range(n-1):\n",
    "            for comb in itertools.combinations(range(n-1), i+1):    \n",
    "                temp = []\n",
    "                for p in comb:\n",
    "                    temp.append((p, n-1))\n",
    "                gs6_new_raw.append(sorted(g + temp))\n",
    "\n",
    "    gs6_new = filter(gs6_new_raw, 6)"
   ]
  },
  {
   "cell_type": "markdown",
   "metadata": {
    "pycharm": {
     "name": "#%% md\n"
    }
   },
   "source": [
    "### Generate radnom graphs\n",
    "\n",
    "Using nx.connected_watts_strogatz_graph\n",
    "- 50 graphs with n = 4, 5, ..., 29 (1300 in total)\n",
    "- 50 graphs with n = 30, 40, ..., 100 (400 in total)\n",
    "\n",
    "TOTAL: 1700"
   ]
  },
  {
   "cell_type": "code",
   "execution_count": null,
   "metadata": {
    "pycharm": {
     "name": "#%%\n"
    }
   },
   "outputs": [],
   "source": [
    "all_graphs = {}\n",
    "\n",
    "for n in range(5, 31):\n",
    "    print(f\"Generating 50 graphs with {n} nodes.\")\n",
    "    for i in range(50):\n",
    "        G = nx.connected_watts_strogatz_graph(n, random.randint(2, int(math.sqrt(n))), random.random())\n",
    "        all_graphs[f'R{n},{i}'] = nx.to_numpy_array(G)\n",
    "\n",
    "for n in range(30, 101, 10):\n",
    "    print(f\"Generating 50 graphs with {n} nodes.\")\n",
    "    for i in range(50):\n",
    "        G = nx.connected_watts_strogatz_graph(n, random.randint(2, int(math.sqrt(n))), random.random())\n",
    "        all_graphs[f'R{n},{i}'] = nx.to_numpy_array(G)\n",
    "\n",
    "with open(data_folder / f'RandomGraphs.npz', 'wb') as stream:\n",
    "        np.savez(stream, **all_graphs)"
   ]
  }
 ],
 "metadata": {
  "kernelspec": {
   "display_name": "PyCharm (topocon)",
   "language": "python",
   "name": "pycharm-f152e988"
  },
  "language_info": {
   "codemirror_mode": {
    "name": "ipython",
    "version": 3
   },
   "file_extension": ".py",
   "mimetype": "text/x-python",
   "name": "python",
   "nbconvert_exporter": "python",
   "pygments_lexer": "ipython3",
   "version": "3.8.10"
  }
 },
 "nbformat": 4,
 "nbformat_minor": 1
}
